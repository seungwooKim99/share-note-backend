{
 "cells": [
  {
   "cell_type": "code",
   "execution_count": 21,
   "metadata": {},
   "outputs": [],
   "source": [
    "import tensorflow as tf\n",
    "import numpy as np\n",
    "import matplotlib.pyplot as plt"
   ]
  },
  {
   "cell_type": "code",
   "execution_count": 11,
   "metadata": {},
   "outputs": [],
   "source": [
    "x_data = [[73., 80., 75.],\n",
    "          [93., 88., 93.],\n",
    "          [89., 91., 90.],\n",
    "          [96., 98., 100.],\n",
    "          [73., 66., 70.]]\n",
    "y_data = [[152.],\n",
    "          [185.],\n",
    "          [180.],\n",
    "          [196.],\n",
    "          [142.]]"
   ]
  },
  {
   "cell_type": "code",
   "execution_count": 12,
   "metadata": {},
   "outputs": [],
   "source": [
    "tf.model = tf.keras.Sequential()"
   ]
  },
  {
   "cell_type": "code",
   "execution_count": 13,
   "metadata": {},
   "outputs": [],
   "source": [
    "tf.model.add(tf.keras.layers.Dense(units=1, input_dim=3))"
   ]
  },
  {
   "cell_type": "code",
   "execution_count": 14,
   "metadata": {},
   "outputs": [],
   "source": [
    "tf.model.add(tf.keras.layers.Activation('linear'))"
   ]
  },
  {
   "cell_type": "code",
   "execution_count": 15,
   "metadata": {},
   "outputs": [],
   "source": [
    "tf.model.compile(loss='mse', optimizer=tf.keras.optimizers.SGD(lr=1e-5))"
   ]
  },
  {
   "cell_type": "code",
   "execution_count": 16,
   "metadata": {},
   "outputs": [
    {
     "name": "stdout",
     "output_type": "stream",
     "text": [
      "Model: \"sequential_1\"\n",
      "_________________________________________________________________\n",
      "Layer (type)                 Output Shape              Param #   \n",
      "=================================================================\n",
      "dense_1 (Dense)              (None, 1)                 4         \n",
      "_________________________________________________________________\n",
      "activation_1 (Activation)    (None, 1)                 0         \n",
      "=================================================================\n",
      "Total params: 4\n",
      "Trainable params: 4\n",
      "Non-trainable params: 0\n",
      "_________________________________________________________________\n"
     ]
    }
   ],
   "source": [
    "tf.model.summary()"
   ]
  },
  {
   "cell_type": "code",
   "execution_count": 17,
   "metadata": {},
   "outputs": [
    {
     "name": "stdout",
     "output_type": "stream",
     "text": [
      "Epoch 1/100\n",
      "1/1 [==============================] - 0s 997us/step - loss: 93762.8281\n",
      "Epoch 2/100\n",
      "1/1 [==============================] - 0s 3ms/step - loss: 29402.3320\n",
      "Epoch 3/100\n",
      "1/1 [==============================] - 0s 2ms/step - loss: 9228.7305\n",
      "Epoch 4/100\n",
      "1/1 [==============================] - 0s 2ms/step - loss: 2905.3689\n",
      "Epoch 5/100\n",
      "1/1 [==============================] - 0s 2ms/step - loss: 923.3249\n",
      "Epoch 6/100\n",
      "1/1 [==============================] - 0s 2ms/step - loss: 302.0514\n",
      "Epoch 7/100\n",
      "1/1 [==============================] - 0s 2ms/step - loss: 107.3090\n",
      "Epoch 8/100\n",
      "1/1 [==============================] - 0s 2ms/step - loss: 46.2608\n",
      "Epoch 9/100\n",
      "1/1 [==============================] - 0s 2ms/step - loss: 27.1186\n",
      "Epoch 10/100\n",
      "1/1 [==============================] - 0s 998us/step - loss: 21.1117\n",
      "Epoch 11/100\n",
      "1/1 [==============================] - 0s 2ms/step - loss: 19.2222\n",
      "Epoch 12/100\n",
      "1/1 [==============================] - 0s 3ms/step - loss: 18.6231\n",
      "Epoch 13/100\n",
      "1/1 [==============================] - 0s 7ms/step - loss: 18.4285\n",
      "Epoch 14/100\n",
      "1/1 [==============================] - 0s 3ms/step - loss: 18.3608\n",
      "Epoch 15/100\n",
      "1/1 [==============================] - 0s 2ms/step - loss: 18.3328\n",
      "Epoch 16/100\n",
      "1/1 [==============================] - 0s 5ms/step - loss: 18.3173\n",
      "Epoch 17/100\n",
      "1/1 [==============================] - 0s 3ms/step - loss: 18.3056\n",
      "Epoch 18/100\n",
      "1/1 [==============================] - 0s 4ms/step - loss: 18.2953\n",
      "Epoch 19/100\n",
      "1/1 [==============================] - 0s 2ms/step - loss: 18.2853\n",
      "Epoch 20/100\n",
      "1/1 [==============================] - 0s 4ms/step - loss: 18.2754\n",
      "Epoch 21/100\n",
      "1/1 [==============================] - 0s 10ms/step - loss: 18.2656\n",
      "Epoch 22/100\n",
      "1/1 [==============================] - 0s 3ms/step - loss: 18.2558\n",
      "Epoch 23/100\n",
      "1/1 [==============================] - 0s 2ms/step - loss: 18.2460\n",
      "Epoch 24/100\n",
      "1/1 [==============================] - 0s 3ms/step - loss: 18.2362\n",
      "Epoch 25/100\n",
      "1/1 [==============================] - 0s 3ms/step - loss: 18.2264\n",
      "Epoch 26/100\n",
      "1/1 [==============================] - 0s 2ms/step - loss: 18.2166\n",
      "Epoch 27/100\n",
      "1/1 [==============================] - 0s 3ms/step - loss: 18.2068\n",
      "Epoch 28/100\n",
      "1/1 [==============================] - 0s 997us/step - loss: 18.1971\n",
      "Epoch 29/100\n",
      "1/1 [==============================] - 0s 3ms/step - loss: 18.1873\n",
      "Epoch 30/100\n",
      "1/1 [==============================] - 0s 2ms/step - loss: 18.1775\n",
      "Epoch 31/100\n",
      "1/1 [==============================] - 0s 998us/step - loss: 18.1678\n",
      "Epoch 32/100\n",
      "1/1 [==============================] - 0s 3ms/step - loss: 18.1580\n",
      "Epoch 33/100\n",
      "1/1 [==============================] - 0s 997us/step - loss: 18.1483\n",
      "Epoch 34/100\n",
      "1/1 [==============================] - 0s 2ms/step - loss: 18.1385\n",
      "Epoch 35/100\n",
      "1/1 [==============================] - 0s 5ms/step - loss: 18.1288\n",
      "Epoch 36/100\n",
      "1/1 [==============================] - 0s 2ms/step - loss: 18.1191\n",
      "Epoch 37/100\n",
      "1/1 [==============================] - 0s 2ms/step - loss: 18.1093\n",
      "Epoch 38/100\n",
      "1/1 [==============================] - 0s 2ms/step - loss: 18.0996\n",
      "Epoch 39/100\n",
      "1/1 [==============================] - 0s 2ms/step - loss: 18.0900\n",
      "Epoch 40/100\n",
      "1/1 [==============================] - 0s 2ms/step - loss: 18.0802\n",
      "Epoch 41/100\n",
      "1/1 [==============================] - 0s 4ms/step - loss: 18.0705\n",
      "Epoch 42/100\n",
      "1/1 [==============================] - 0s 2ms/step - loss: 18.0608\n",
      "Epoch 43/100\n",
      "1/1 [==============================] - 0s 2ms/step - loss: 18.0512\n",
      "Epoch 44/100\n",
      "1/1 [==============================] - 0s 2ms/step - loss: 18.0414\n",
      "Epoch 45/100\n",
      "1/1 [==============================] - 0s 2ms/step - loss: 18.0317\n",
      "Epoch 46/100\n",
      "1/1 [==============================] - 0s 2ms/step - loss: 18.0220\n",
      "Epoch 47/100\n",
      "1/1 [==============================] - 0s 6ms/step - loss: 18.0124\n",
      "Epoch 48/100\n",
      "1/1 [==============================] - 0s 4ms/step - loss: 18.0027\n",
      "Epoch 49/100\n",
      "1/1 [==============================] - 0s 3ms/step - loss: 17.9931\n",
      "Epoch 50/100\n",
      "1/1 [==============================] - 0s 997us/step - loss: 17.9834\n",
      "Epoch 51/100\n",
      "1/1 [==============================] - 0s 3ms/step - loss: 17.9738\n",
      "Epoch 52/100\n",
      "1/1 [==============================] - 0s 997us/step - loss: 17.9641\n",
      "Epoch 53/100\n",
      "1/1 [==============================] - 0s 3ms/step - loss: 17.9544\n",
      "Epoch 54/100\n",
      "1/1 [==============================] - 0s 997us/step - loss: 17.9448\n",
      "Epoch 55/100\n",
      "1/1 [==============================] - 0s 2ms/step - loss: 17.9352\n",
      "Epoch 56/100\n",
      "1/1 [==============================] - 0s 2ms/step - loss: 17.9255\n",
      "Epoch 57/100\n",
      "1/1 [==============================] - 0s 2ms/step - loss: 17.9159\n",
      "Epoch 58/100\n",
      "1/1 [==============================] - 0s 2ms/step - loss: 17.9063\n",
      "Epoch 59/100\n",
      "1/1 [==============================] - 0s 2ms/step - loss: 17.8967\n",
      "Epoch 60/100\n",
      "1/1 [==============================] - 0s 2ms/step - loss: 17.8871\n",
      "Epoch 61/100\n",
      "1/1 [==============================] - 0s 2ms/step - loss: 17.8775\n",
      "Epoch 62/100\n",
      "1/1 [==============================] - 0s 3ms/step - loss: 17.8679\n",
      "Epoch 63/100\n",
      "1/1 [==============================] - 0s 3ms/step - loss: 17.8583\n",
      "Epoch 64/100\n",
      "1/1 [==============================] - 0s 3ms/step - loss: 17.8487\n",
      "Epoch 65/100\n",
      "1/1 [==============================] - 0s 2ms/step - loss: 17.8392\n",
      "Epoch 66/100\n",
      "1/1 [==============================] - 0s 999us/step - loss: 17.8296\n",
      "Epoch 67/100\n",
      "1/1 [==============================] - 0s 2ms/step - loss: 17.8200\n",
      "Epoch 68/100\n",
      "1/1 [==============================] - 0s 2ms/step - loss: 17.8105\n",
      "Epoch 69/100\n",
      "1/1 [==============================] - 0s 2ms/step - loss: 17.8009\n",
      "Epoch 70/100\n",
      "1/1 [==============================] - 0s 2ms/step - loss: 17.7913\n",
      "Epoch 71/100\n",
      "1/1 [==============================] - 0s 2ms/step - loss: 17.7818\n",
      "Epoch 72/100\n",
      "1/1 [==============================] - 0s 2ms/step - loss: 17.7722\n",
      "Epoch 73/100\n",
      "1/1 [==============================] - 0s 2ms/step - loss: 17.7627\n",
      "Epoch 74/100\n",
      "1/1 [==============================] - 0s 997us/step - loss: 17.7532\n",
      "Epoch 75/100\n",
      "1/1 [==============================] - 0s 3ms/step - loss: 17.7437\n",
      "Epoch 76/100\n",
      "1/1 [==============================] - 0s 2ms/step - loss: 17.7342\n",
      "Epoch 77/100\n",
      "1/1 [==============================] - 0s 999us/step - loss: 17.7246\n",
      "Epoch 78/100\n",
      "1/1 [==============================] - 0s 2ms/step - loss: 17.7151\n",
      "Epoch 79/100\n",
      "1/1 [==============================] - 0s 3ms/step - loss: 17.7056\n",
      "Epoch 80/100\n",
      "1/1 [==============================] - 0s 2ms/step - loss: 17.6961\n",
      "Epoch 81/100\n",
      "1/1 [==============================] - 0s 4ms/step - loss: 17.6866\n",
      "Epoch 82/100\n",
      "1/1 [==============================] - 0s 2ms/step - loss: 17.6771\n",
      "Epoch 83/100\n",
      "1/1 [==============================] - 0s 2ms/step - loss: 17.6676\n",
      "Epoch 84/100\n",
      "1/1 [==============================] - 0s 3ms/step - loss: 17.6582\n",
      "Epoch 85/100\n",
      "1/1 [==============================] - 0s 3ms/step - loss: 17.6486\n",
      "Epoch 86/100\n",
      "1/1 [==============================] - 0s 1ms/step - loss: 17.6392\n",
      "Epoch 87/100\n",
      "1/1 [==============================] - 0s 996us/step - loss: 17.6297\n",
      "Epoch 88/100\n",
      "1/1 [==============================] - 0s 2ms/step - loss: 17.6203\n",
      "Epoch 89/100\n",
      "1/1 [==============================] - 0s 2ms/step - loss: 17.6108\n",
      "Epoch 90/100\n",
      "1/1 [==============================] - 0s 2ms/step - loss: 17.6014\n",
      "Epoch 91/100\n",
      "1/1 [==============================] - 0s 2ms/step - loss: 17.5919\n",
      "Epoch 92/100\n",
      "1/1 [==============================] - 0s 3ms/step - loss: 17.5825\n",
      "Epoch 93/100\n",
      "1/1 [==============================] - 0s 2ms/step - loss: 17.5731\n",
      "Epoch 94/100\n",
      "1/1 [==============================] - 0s 3ms/step - loss: 17.5636\n",
      "Epoch 95/100\n",
      "1/1 [==============================] - 0s 2ms/step - loss: 17.5543\n",
      "Epoch 96/100\n",
      "1/1 [==============================] - 0s 4ms/step - loss: 17.5448\n",
      "Epoch 97/100\n",
      "1/1 [==============================] - 0s 2ms/step - loss: 17.5353\n",
      "Epoch 98/100\n",
      "1/1 [==============================] - 0s 2ms/step - loss: 17.5259\n",
      "Epoch 99/100\n",
      "1/1 [==============================] - 0s 2ms/step - loss: 17.5165\n",
      "Epoch 100/100\n",
      "1/1 [==============================] - 0s 2ms/step - loss: 17.5072\n"
     ]
    }
   ],
   "source": [
    "history = tf.model.fit(x_data, y_data, epochs=100)"
   ]
  },
  {
   "cell_type": "code",
   "execution_count": 18,
   "metadata": {},
   "outputs": [],
   "source": [
    "y_predict = tf.model.predict(np.array([[72., 93., 90.]]))"
   ]
  },
  {
   "cell_type": "code",
   "execution_count": 19,
   "metadata": {},
   "outputs": [
    {
     "name": "stdout",
     "output_type": "stream",
     "text": [
      "[[179.64093]]\n"
     ]
    }
   ],
   "source": [
    "print(y_predict)"
   ]
  },
  {
   "cell_type": "code",
   "execution_count": 22,
   "metadata": {},
   "outputs": [
    {
     "data": {
      "image/png": "[encoded data removed]",
      "text/plain": [
       "<Figure size 432x288 with 1 Axes>"
      ]
     },
     "metadata": {
      "needs_background": "light"
     },
     "output_type": "display_data"
    }
   ],
   "source": [
    "plt.plot(history.history['loss'])\n",
    "plt.title('Model loss')\n",
    "plt.ylabel('Loss')\n",
    "plt.xlabel('Epoch')\n",
    "plt.legend(['Train', 'Test'], loc='upper left')\n",
    "plt.show()"
   ]
  },
  {
   "cell_type": "code",
   "execution_count": null,
   "metadata": {},
   "outputs": [],
   "source": []
  }
 ],
 "metadata": {
  "kernelspec": {
   "display_name": "Python 3",
   "language": "python",
   "name": "python3"
  },
  "language_info": {
   "codemirror_mode": {
    "name": "ipython",
    "version": 3
   },
   "file_extension": ".py",
   "mimetype": "text/x-python",
   "name": "python",
   "nbconvert_exporter": "python",
   "pygments_lexer": "ipython3",
   "version": "3.8.5"
  }
 },
 "nbformat": 4,
 "nbformat_minor": 4
}
