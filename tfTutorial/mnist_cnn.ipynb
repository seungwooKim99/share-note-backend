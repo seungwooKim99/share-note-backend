{
 "cells": [
  {
   "cell_type": "code",
   "execution_count": 23,
   "metadata": {},
   "outputs": [],
   "source": [
    "import numpy as np\n",
    "import tensorflow as tf\n",
    "import random"
   ]
  },
  {
   "cell_type": "code",
   "execution_count": 24,
   "metadata": {},
   "outputs": [
    {
     "name": "stdout",
     "output_type": "stream",
     "text": [
      "(60000,)\n"
     ]
    }
   ],
   "source": [
    "mnist = tf.keras.datasets.mnist\n",
    "(x_train, y_train), (x_test, y_test) = mnist.load_data()\n",
    "print(y_train.shape)"
   ]
  },
  {
   "cell_type": "code",
   "execution_count": 25,
   "metadata": {},
   "outputs": [],
   "source": [
    "x_test = x_test / 255\n",
    "x_train = x_train / 255\n",
    "x_train = x_train.reshape(x_train.shape[0], 28, 28, 1)\n",
    "x_test = x_test.reshape(x_test.shape[0], 28, 28, 1)"
   ]
  },
  {
   "cell_type": "code",
   "execution_count": 26,
   "metadata": {},
   "outputs": [
    {
     "name": "stdout",
     "output_type": "stream",
     "text": [
      "(10000, 10)\n"
     ]
    }
   ],
   "source": [
    "# one hot encode y data\n",
    "y_train = tf.keras.utils.to_categorical(y_train, 10)\n",
    "y_test = tf.keras.utils.to_categorical(y_test, 10)\n",
    "print(y_test.shape)"
   ]
  },
  {
   "cell_type": "code",
   "execution_count": 27,
   "metadata": {},
   "outputs": [],
   "source": [
    "# hyper parameters\n",
    "learning_rate = 0.001\n",
    "training_epochs = 12\n",
    "batch_size = 128"
   ]
  },
  {
   "cell_type": "code",
   "execution_count": 28,
   "metadata": {},
   "outputs": [],
   "source": [
    "tf.model=tf.keras.Sequential()\n",
    "#L1\n",
    "tf.model.add(tf.keras.layers.Conv2D(filters=16, kernel_size=(3,3), input_shape=(28,28,1), activation='relu'))\n",
    "tf.model.add(tf.keras.layers.MaxPooling2D(pool_size=(2,2)))\n",
    "\n",
    "#L2\n",
    "tf.model.add(tf.keras.layers.Conv2D(filters=32, kernel_size=(3,3), activation='relu'))\n",
    "tf.model.add(tf.keras.layers.MaxPooling2D(pool_size=(2,2)))\n",
    "\n",
    "#L3 Fully connected\n",
    "tf.model.add(tf.keras.layers.Flatten())\n",
    "tf.model.add(tf.keras.layers.Dense(units=10, kernel_initializer='glorot_normal', activation=\"softmax\"))"
   ]
  },
  {
   "cell_type": "code",
   "execution_count": 30,
   "metadata": {},
   "outputs": [
    {
     "name": "stdout",
     "output_type": "stream",
     "text": [
      "Model: \"sequential_2\"\n",
      "_________________________________________________________________\n",
      "Layer (type)                 Output Shape              Param #   \n",
      "=================================================================\n",
      "conv2d_3 (Conv2D)            (None, 26, 26, 16)        160       \n",
      "_________________________________________________________________\n",
      "max_pooling2d_2 (MaxPooling2 (None, 13, 13, 16)        0         \n",
      "_________________________________________________________________\n",
      "conv2d_4 (Conv2D)            (None, 11, 11, 32)        4640      \n",
      "_________________________________________________________________\n",
      "max_pooling2d_3 (MaxPooling2 (None, 5, 5, 32)          0         \n",
      "_________________________________________________________________\n",
      "flatten_1 (Flatten)          (None, 800)               0         \n",
      "_________________________________________________________________\n",
      "dense_1 (Dense)              (None, 10)                8010      \n",
      "=================================================================\n",
      "Total params: 12,810\n",
      "Trainable params: 12,810\n",
      "Non-trainable params: 0\n",
      "_________________________________________________________________\n"
     ]
    }
   ],
   "source": [
    "tf.model.compile(loss=\"categorical_crossentropy\", optimizer=tf.keras.optimizers.Adam(lr=learning_rate), metrics=['accuracy'])\n",
    "tf.model.summary()"
   ]
  },
  {
   "cell_type": "code",
   "execution_count": 31,
   "metadata": {},
   "outputs": [
    {
     "name": "stdout",
     "output_type": "stream",
     "text": [
      "Epoch 1/12\n",
      "469/469 [==============================] - 18s 37ms/step - loss: 0.3398 - accuracy: 0.9082\n",
      "Epoch 2/12\n",
      "469/469 [==============================] - 17s 37ms/step - loss: 0.0986 - accuracy: 0.9703\n",
      "Epoch 3/12\n",
      "469/469 [==============================] - 17s 37ms/step - loss: 0.0743 - accuracy: 0.9769\n",
      "Epoch 4/12\n",
      "469/469 [==============================] - 17s 37ms/step - loss: 0.0619 - accuracy: 0.9813\n",
      "Epoch 5/12\n",
      "469/469 [==============================] - 17s 36ms/step - loss: 0.0539 - accuracy: 0.9833\n",
      "Epoch 6/12\n",
      "469/469 [==============================] - 17s 37ms/step - loss: 0.0479 - accuracy: 0.9848\n",
      "Epoch 7/12\n",
      "469/469 [==============================] - 17s 37ms/step - loss: 0.0426 - accuracy: 0.9870\n",
      "Epoch 8/12\n",
      "469/469 [==============================] - 17s 36ms/step - loss: 0.0393 - accuracy: 0.9878\n",
      "Epoch 9/12\n",
      "469/469 [==============================] - 17s 36ms/step - loss: 0.0358 - accuracy: 0.9888\n",
      "Epoch 10/12\n",
      "469/469 [==============================] - 17s 36ms/step - loss: 0.0324 - accuracy: 0.9901\n",
      "Epoch 11/12\n",
      "469/469 [==============================] - 17s 37ms/step - loss: 0.0303 - accuracy: 0.9908\n",
      "Epoch 12/12\n",
      "469/469 [==============================] - 17s 37ms/step - loss: 0.0273 - accuracy: 0.9914\n"
     ]
    },
    {
     "data": {
      "text/plain": [
       "<tensorflow.python.keras.callbacks.History at 0x26983f77130>"
      ]
     },
     "execution_count": 31,
     "metadata": {},
     "output_type": "execute_result"
    }
   ],
   "source": [
    "tf.model.fit(x_train, y_train, batch_size=batch_size, epochs=training_epochs)"
   ]
  },
  {
   "cell_type": "code",
   "execution_count": 32,
   "metadata": {},
   "outputs": [],
   "source": [
    "y_predicted = tf.model.predict(x_test)"
   ]
  },
  {
   "cell_type": "code",
   "execution_count": 33,
   "metadata": {},
   "outputs": [
    {
     "name": "stdout",
     "output_type": "stream",
     "text": [
      "index:  5786 actual y:  1 predicted y:  1\n",
      "index:  1145 actual y:  4 predicted y:  4\n",
      "index:  3524 actual y:  6 predicted y:  6\n",
      "index:  6225 actual y:  2 predicted y:  2\n",
      "index:  8865 actual y:  0 predicted y:  0\n",
      "index:  3657 actual y:  6 predicted y:  6\n",
      "index:  1523 actual y:  8 predicted y:  8\n",
      "index:  247 actual y:  4 predicted y:  4\n",
      "index:  4115 actual y:  2 predicted y:  2\n",
      "index:  7117 actual y:  3 predicted y:  3\n"
     ]
    }
   ],
   "source": [
    "for x in range (0, 10):\n",
    "    random_index = random.randint(0, x_test.shape[0]-1)\n",
    "    print(\"index: \", random_index,\n",
    "          \"actual y: \", np.argmax(y_test[random_index]),\n",
    "          \"predicted y: \", np.argmax(y_predicted[random_index]))"
   ]
  },
  {
   "cell_type": "code",
   "execution_count": 34,
   "metadata": {},
   "outputs": [
    {
     "name": "stdout",
     "output_type": "stream",
     "text": [
      "313/313 [==============================] - 1s 4ms/step - loss: 0.0351 - accuracy: 0.9886\n",
      "loss:  0.03513412922620773\n",
      "accuracy:  0.9886000156402588\n"
     ]
    }
   ],
   "source": [
    "evaluation = tf.model.evaluate(x_test, y_test)\n",
    "print('loss: ', evaluation[0])\n",
    "print('accuracy: ', evaluation[1])"
   ]
  },
  {
   "cell_type": "code",
   "execution_count": null,
   "metadata": {},
   "outputs": [],
   "source": []
  }
 ],
 "metadata": {
  "kernelspec": {
   "display_name": "Python 3",
   "language": "python",
   "name": "python3"
  },
  "language_info": {
   "codemirror_mode": {
    "name": "ipython",
    "version": 3
   },
   "file_extension": ".py",
   "mimetype": "text/x-python",
   "name": "python",
   "nbconvert_exporter": "python",
   "pygments_lexer": "ipython3",
   "version": "3.8.5"
  }
 },
 "nbformat": 4,
 "nbformat_minor": 4
}
